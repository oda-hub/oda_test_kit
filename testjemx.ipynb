{
 "cells": [
  {
   "cell_type": "code",
   "execution_count": 1,
   "id": "2c85885f",
   "metadata": {},
   "outputs": [],
   "source": [
    "import importlib\n",
    "\n",
    "import ogip.spec\n",
    "import ogip.tools\n",
    "import matplotlib.pylab as plt"
   ]
  },
  {
   "cell_type": "code",
   "execution_count": null,
   "id": "6cfd824d",
   "metadata": {
    "scrolled": true
   },
   "outputs": [],
   "source": [
    "import test_spectrum_jemx_science as t\n",
    "importlib.reload(t)\n",
    "\n",
    "datas = t.test_source(\"production\")"
   ]
  },
  {
   "cell_type": "code",
   "execution_count": 3,
   "id": "acfd0d72",
   "metadata": {},
   "outputs": [],
   "source": [
    "def steperr(x, y, dy, **kwargs):\n",
    "    _ = plt.errorbar(\n",
    "        x,\n",
    "        y,\n",
    "        dy,\n",
    "        ls=\"\",\n",
    "        **kwargs\n",
    "    )\n",
    "\n",
    "    plt.step(\n",
    "        x,\n",
    "        y,\n",
    "        where=\"mid\",\n",
    "        c=_[0].get_color(),\n",
    "        **kwargs\n",
    "    )"
   ]
  },
  {
   "cell_type": "code",
   "execution_count": 4,
   "id": "64687b55",
   "metadata": {},
   "outputs": [
    {
     "data": {
      "text/plain": [
       "XTENSION= 'BINTABLE'           / binary table extension                         \n",
       "BITPIX  =                    8 / array data type                                \n",
       "NAXIS   =                    2 / number of array dimensions                     \n",
       "NAXIS1  =                   98 / length of dimension 1                          \n",
       "NAXIS2  =                  500 / length of dimension 2                          \n",
       "PCOUNT  =                 3872 / number of group parameters                     \n",
       "GCOUNT  =                    1 / number of groups                               \n",
       "TFIELDS =                    6 / number of table fields                         \n",
       "BASETYPE= 'DAL_TABLE'                                                           \n",
       "CHANTYPE= 'PI      '                                                            \n",
       "CHECKSUM= 'MNIqPKIoMKIoMKIo'                                                    \n",
       "COMMENT // fano_factor = 2.550000                                               \n",
       "CONFIGUR= 'osa_sw-7.0 linux'                                                    \n",
       "CREATOR = 'j_rmf_make 1.0.0'                                                    \n",
       "DATASUM = '436816916'                                                           \n",
       "DATE    = '2009-07-08T09:11:33'                                                 \n",
       "DETCHANS=                   16                                                  \n",
       "DETNAM  = 'UNKNOWN '                                                            \n",
       "EFFAREA =                  1.0                                                  \n",
       "EXTNAME = 'SPECRESP MATRIX'                                                     \n",
       "EXTREL  = '4.3     '                                                            \n",
       "FILTER  = 'UNKNOWN '                                                            \n",
       "GRPID1  =                    1                                                  \n",
       "HDUCLAS1= 'RESPONSE'                                                            \n",
       "HDUCLAS2= 'RSP_MATRIX'                                                          \n",
       "HDUCLAS3= 'UNKNOWN '                                                            \n",
       "HDUCLASS= 'OGIP    '                                                            \n",
       "HDUVERS = '1.3.0   '                                                            \n",
       "INSTRUME= 'JMX1    '                                                            \n",
       "LO_THRES=                  0.0                                                  \n",
       "NUMELT  =                 2262                                                  \n",
       "NUMGRP  =                  484                                                  \n",
       "ORIGIN  = 'DNSC    '                                                            \n",
       "STAMP   = '2009-07-08T09:11:33 j_rmf_make 1.0.0'                                \n",
       "TELESCOP= 'INTEGRAL'                                                            \n",
       "TLMIN4  =                    1                                                  \n",
       "TTYPE1  = 'ENERG_LO'                                                            \n",
       "TFORM1  = 'D       '                                                            \n",
       "TUNIT1  = 'keV     '                                                            \n",
       "TTYPE2  = 'ENERG_HI'                                                            \n",
       "TFORM2  = 'D       '                                                            \n",
       "TUNIT2  = 'keV     '                                                            \n",
       "TTYPE3  = 'N_GRP   '                                                            \n",
       "TFORM3  = 'I       '                                                            \n",
       "TTYPE4  = 'F_CHAN  '                                                            \n",
       "TFORM4  = 'PJ(<built-in method max of _VLF object at 0x7f4dcfabb200>)'          \n",
       "TTYPE5  = 'N_CHAN  '                                                            \n",
       "TFORM5  = 'PJ(<built-in method max of _VLF object at 0x7f4dcfabb660>)'          \n",
       "TTYPE6  = 'MATRIX  '                                                            \n",
       "TFORM6  = '16E     '                                                            "
      ]
     },
     "execution_count": 4,
     "metadata": {},
     "output_type": "execute_result"
    }
   ],
   "source": [
    "import astropy.io.fits as fits\n",
    "\n",
    "rpu = fits.open('rmf_public.fits')\n",
    "rpr = fits.open('rmf_all-private.fits')\n",
    "\n",
    "rpu[2].header"
   ]
  },
  {
   "cell_type": "code",
   "execution_count": 5,
   "id": "6b95ceec",
   "metadata": {},
   "outputs": [
    {
     "name": "stderr",
     "output_type": "stream",
     "text": [
      "DEBUG:root:failed to read from <astropy.io.fits.hdu.image.PrimaryHDU object at 0x7f53ffa43610>: \"Keyword 'EXPOSURE' not found.\"\n",
      "DEBUG:root:failed to read with RMF.from_file_name_osaisgri <staticmethod object at 0x7f541d469b50>: \"Extension 'ISGR-RMF.-RSP' not found.\"\n",
      "DEBUG:root:failed to read with RMF.from_file_name_normal <staticmethod object at 0x7f541d469b80>: \"Extension 'MATRIX' not found.\"\n",
      "DEBUG:root:failed to read from <astropy.io.fits.hdu.image.PrimaryHDU object at 0x7f53ffa470a0>: \"Keyword 'EXPOSURE' not found.\"\n",
      "DEBUG:root:failed to read with RMF.from_file_name_osaisgri <staticmethod object at 0x7f541d469b50>: \"Extension 'ISGR-RMF.-RSP' not found.\"\n",
      "DEBUG:root:failed to read with RMF.from_file_name_normal <staticmethod object at 0x7f541d469b80>: \"Extension 'MATRIX' not found.\"\n"
     ]
    },
    {
     "data": {
      "text/plain": [
       "[]"
      ]
     },
     "execution_count": 5,
     "metadata": {},
     "output_type": "execute_result"
    },
    {
     "data": {
      "image/png": "[encoded data removed]",
      "text/plain": [
       "<Figure size 432x288 with 1 Axes>"
      ]
     },
     "metadata": {
      "needs_background": "light"
     },
     "output_type": "display_data"
    }
   ],
   "source": [
    "plt.figure()\n",
    "\n",
    "S = {}\n",
    "\n",
    "for k, data in datas.items():\n",
    "    data.as_list()\n",
    "    data.jemx_spectrum_0_VelaXm1_jemx_spectrum.write_fits_file(f'spec_{k}.fits')\n",
    "    data.jemx_spectrum_1_VelaXm1_jemx_arf.write_fits_file(f'arf_{k}.fits')\n",
    "    data.jemx_spectrum_2_VelaXm1_jemx_rmf.write_fits_file(f'rmf_{k}.fits')\n",
    "    \n",
    "    S[k] = dict(\n",
    "        pha = ogip.spec.PHAI.from_file_name(f'spec_{k}.fits'),\n",
    "        arf = ogip.spec.ARF.from_file_name(f'arf_{k}.fits'),\n",
    "        rmf = ogip.spec.RMF.from_file_name(f'rmf_{k}.fits')\n",
    "    )\n",
    "\n",
    "    e1 = S[k]['rmf']._e_min\n",
    "    e2 = S[k]['rmf']._e_max\n",
    "    de = e2 - e1\n",
    "    \n",
    "    x = steperr(\n",
    "        S[k]['rmf']._e_min,\n",
    "        S[k]['pha']._rate/de,\n",
    "        S[k]['pha']._stat_err/de,\n",
    "    )\n",
    "\n",
    "    model = ogip.tools.convolve(\n",
    "        lambda en:(en/10)**-2 * 1e-2,\n",
    "        S[k]['rmf'],\n",
    "        S[k]['arf'],\n",
    "    )\n",
    "\n",
    "    plt.plot(\n",
    "        e2,\n",
    "        model,\n",
    "    )\n",
    "\n",
    "plt.loglog()"
   ]
  }
 ],
 "metadata": {
  "kernelspec": {
   "display_name": "Python 3 (ipykernel)",
   "language": "python",
   "name": "python3"
  },
  "language_info": {
   "codemirror_mode": {
    "name": "ipython",
    "version": 3
   },
   "file_extension": ".py",
   "mimetype": "text/x-python",
   "name": "python",
   "nbconvert_exporter": "python",
   "pygments_lexer": "ipython3",
   "version": "3.9.6"
  }
 },
 "nbformat": 4,
 "nbformat_minor": 5
}
